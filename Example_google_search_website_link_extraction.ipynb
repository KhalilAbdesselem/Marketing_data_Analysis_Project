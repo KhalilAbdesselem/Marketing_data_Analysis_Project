{
 "cells": [
  {
   "cell_type": "markdown",
   "id": "8e205d40",
   "metadata": {},
   "source": [
    "### Automate the process of searching Google for the official website of a specified entity Ex:( \"Microsoft\") and return the URL of the top result."
   ]
  },
  {
   "cell_type": "code",
   "execution_count": 46,
   "id": "81ac4f22",
   "metadata": {},
   "outputs": [
    {
     "name": "stdout",
     "output_type": "stream",
     "text": [
      "Title: Microsoft – AI, Cloud, Productivity, Computing, Gaming & Apps\n",
      "Link: https://www.microsoft.com/\n"
     ]
    }
   ],
   "source": [
    "from selenium import webdriver\n",
    "from selenium.webdriver.common.by import By\n",
    "from selenium.webdriver.common.keys import Keys\n",
    "from selenium.webdriver.chrome.service import Service\n",
    "from selenium.webdriver.chrome.options import Options\n",
    "import time\n",
    "\n",
    "# Path to your ChromeDriver\n",
    "chrome_driver_path = r'C:\\Users\\khalil\\marketing_data_Analytics_Project\\chromedriver.exe'\n",
    "\n",
    "# Configure ChromeDriver\n",
    "chrome_options = Options()\n",
    "chrome_options.add_argument(\"--headless\")  # Optional: Run in headless mode\n",
    "chrome_options.add_argument(\"--disable-gpu\")\n",
    "chrome_options.add_argument(\"--no-sandbox\")\n",
    "\n",
    "# Initialize Selenium WebDriver\n",
    "service = Service(chrome_driver_path)\n",
    "driver = webdriver.Chrome(service=service, options=chrome_options)\n",
    "\n",
    "try:\n",
    "    # Open Google\n",
    "    driver.get(\"https://www.google.com/\")\n",
    "\n",
    "    # Locate the search box\n",
    "    search_box = driver.find_element(By.NAME, \"q\")\n",
    "\n",
    "    # Refined search query to prioritize the official website\n",
    "    search_query = \"Microsoft official site\"\n",
    "\n",
    "    # Enter the search query and submit\n",
    "    search_box.send_keys(search_query)\n",
    "    search_box.send_keys(Keys.RETURN)\n",
    "\n",
    "    # Wait for search results to load\n",
    "    time.sleep(2)  # Adjust sleep time if necessary\n",
    "\n",
    "    # Extract the first search result\n",
    "    first_result = driver.find_element(By.CSS_SELECTOR, \"div.g\")\n",
    "    title = first_result.find_element(By.CSS_SELECTOR, \"h3\").text\n",
    "    link = first_result.find_element(By.TAG_NAME, \"a\").get_attribute(\"href\")\n",
    "\n",
    "    # Print the title and link of the first result\n",
    "    print(f\"Title: {title}\")\n",
    "    print(f\"Link: {link}\")\n",
    "\n",
    "except Exception as e:\n",
    "    print(f\"Error: {e}\")\n",
    "\n",
    "finally:\n",
    "    driver.quit()\n"
   ]
  }
 ],
 "metadata": {
  "kernelspec": {
   "display_name": "Python 3 (ipykernel)",
   "language": "python",
   "name": "python3"
  },
  "language_info": {
   "codemirror_mode": {
    "name": "ipython",
    "version": 3
   },
   "file_extension": ".py",
   "mimetype": "text/x-python",
   "name": "python",
   "nbconvert_exporter": "python",
   "pygments_lexer": "ipython3",
   "version": "3.10.13"
  }
 },
 "nbformat": 4,
 "nbformat_minor": 5
}
