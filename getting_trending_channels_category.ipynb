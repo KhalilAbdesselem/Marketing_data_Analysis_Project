{
 "cells": [
  {
   "cell_type": "code",
   "execution_count": 1,
   "id": "f459e906",
   "metadata": {},
   "outputs": [],
   "source": [
    "import requests\n",
    "from bs4 import BeautifulSoup\n",
    "\n"
   ]
  },
  {
   "cell_type": "code",
   "execution_count": 11,
   "id": "9b3b4897",
   "metadata": {},
   "outputs": [
    {
     "data": {
      "text/plain": [
       "'Music'"
      ]
     },
     "execution_count": 11,
     "metadata": {},
     "output_type": "execute_result"
    }
   ],
   "source": [
    "category_section.text.strip()"
   ]
  },
  {
   "cell_type": "code",
   "execution_count": 2,
   "id": "772eae88",
   "metadata": {},
   "outputs": [
    {
     "name": "stderr",
     "output_type": "stream",
     "text": [
      "C:\\Users\\khalil\\AppData\\Local\\Temp\\ipykernel_10792\\381911743.py:17: UserWarning: pandas only supports SQLAlchemy connectable (engine/connection) or database string URI or sqlite3 DBAPI2 connection. Other DBAPI2 objects are not tested. Please consider using SQLAlchemy.\n",
      "  df = pd.read_sql(query, conn)\n"
     ]
    },
    {
     "name": "stdout",
     "output_type": "stream",
     "text": [
      "                    channel_id\n",
      "0     UC_3rZIKC-FvhYwM76LGDp7Q\n",
      "1     UC_AFyA9FqrZ57bb9QRH77wg\n",
      "2     UC_I2tZMUZTs6z6przhH32hA\n",
      "3     UC_IRYSp4auq7hKLvziWVH6w\n",
      "4     UC_JQGBtA7P0RwkRxd7xpJcA\n",
      "...                        ...\n",
      "3847  UCZvQ3Fl-OyvZsCWZiIkW78w\n",
      "3848  UCZW5lIUz93q_aZIkJPAC0IQ\n",
      "3849  UCZYXO1yZnSAT6sK79bZV_Hg\n",
      "3850  UCzz4CoEgSgWNs9ZAvRMhW2A\n",
      "3851  UCZzQ9gNE0vjjlZVHn95QRuQ\n",
      "\n",
      "[3852 rows x 1 columns]\n"
     ]
    }
   ],
   "source": [
    "import pyodbc\n",
    "import pandas as pd\n",
    "\n",
    "# Define the connection parameters\n",
    "server = 'DESKTOP-GJR311M\\\\PROJECT_BI_2BA2'  # Your server name\n",
    "database = 'Youtube_DB'  # Replace with your actual database name\n",
    "\n",
    "# Use Trusted_Connection=yes for Windows Authentication\n",
    "conn_str = f'DRIVER={{SQL Server}};SERVER={server};DATABASE={database};Trusted_Connection=yes;'\n",
    "\n",
    "# Establish a connection to the database\n",
    "with pyodbc.connect(conn_str) as conn:\n",
    "    # Define the SQL query\n",
    "    query = 'SELECT DISTINCT [channel_id] FROM [trending];'\n",
    "    \n",
    "    # Load the results into a DataFrame\n",
    "    df = pd.read_sql(query, conn)\n",
    "\n",
    "# Display the DataFrame\n",
    "print(df)\n"
   ]
  },
  {
   "cell_type": "code",
   "execution_count": 3,
   "id": "990ffe87",
   "metadata": {},
   "outputs": [
    {
     "name": "stdout",
     "output_type": "stream",
     "text": [
      "                    channel_id  \\\n",
      "0     UC_3rZIKC-FvhYwM76LGDp7Q   \n",
      "1     UC_AFyA9FqrZ57bb9QRH77wg   \n",
      "2     UC_I2tZMUZTs6z6przhH32hA   \n",
      "3     UC_IRYSp4auq7hKLvziWVH6w   \n",
      "4     UC_JQGBtA7P0RwkRxd7xpJcA   \n",
      "...                        ...   \n",
      "3847  UCZvQ3Fl-OyvZsCWZiIkW78w   \n",
      "3848  UCZW5lIUz93q_aZIkJPAC0IQ   \n",
      "3849  UCZYXO1yZnSAT6sK79bZV_Hg   \n",
      "3850  UCzz4CoEgSgWNs9ZAvRMhW2A   \n",
      "3851  UCZzQ9gNE0vjjlZVHn95QRuQ   \n",
      "\n",
      "                                                   link  \n",
      "0     https://vidiq.com/youtube-stats/channel/UC_3rZ...  \n",
      "1     https://vidiq.com/youtube-stats/channel/UC_AFy...  \n",
      "2     https://vidiq.com/youtube-stats/channel/UC_I2t...  \n",
      "3     https://vidiq.com/youtube-stats/channel/UC_IRY...  \n",
      "4     https://vidiq.com/youtube-stats/channel/UC_JQG...  \n",
      "...                                                 ...  \n",
      "3847  https://vidiq.com/youtube-stats/channel/UCZvQ3...  \n",
      "3848  https://vidiq.com/youtube-stats/channel/UCZW5l...  \n",
      "3849  https://vidiq.com/youtube-stats/channel/UCZYXO...  \n",
      "3850  https://vidiq.com/youtube-stats/channel/UCzz4C...  \n",
      "3851  https://vidiq.com/youtube-stats/channel/UCZzQ9...  \n",
      "\n",
      "[3852 rows x 2 columns]\n"
     ]
    }
   ],
   "source": [
    "base_url = \"https://vidiq.com/youtube-stats/channel/\"\n",
    "df['link'] = base_url + df['channel_id'].astype(str)\n",
    "\n",
    "# Display the updated DataFrame\n",
    "print(df)"
   ]
  },
  {
   "cell_type": "code",
   "execution_count": 15,
   "id": "7b308703",
   "metadata": {},
   "outputs": [
    {
     "name": "stdout",
     "output_type": "stream",
     "text": [
      "                  channel_id  \\\n",
      "0   UC_1QUZJSTYqda_dVYlNV03w   \n",
      "1   UC_446tDNo7UckPX78hM0Nlg   \n",
      "2   UC_62jYuKq0O-K66pjrK5jhQ   \n",
      "3   UC_BaxRhNREI_V0DVXjXDALA   \n",
      "4   UC_e9Azz4JfxNXE0P1dtEmcQ   \n",
      "..                       ...   \n",
      "95  UC3ytAKP00gWDkiOrcKfOwTQ   \n",
      "96  UC4cvpsB_dAX8i5vdaBB-96w   \n",
      "97  UC4f1JueVgo5t9HSmobCRPug   \n",
      "98  UC4Ge3cqrdyOszmnJTcMICcg   \n",
      "99  UC4GphXkpNHUd0mhZ7Jfkeww   \n",
      "\n",
      "                                                 link  \n",
      "0   https://vidiq.com/youtube-stats/channel/UC_1QU...  \n",
      "1   https://vidiq.com/youtube-stats/channel/UC_446...  \n",
      "2   https://vidiq.com/youtube-stats/channel/UC_62j...  \n",
      "3   https://vidiq.com/youtube-stats/channel/UC_Bax...  \n",
      "4   https://vidiq.com/youtube-stats/channel/UC_e9A...  \n",
      "..                                                ...  \n",
      "95  https://vidiq.com/youtube-stats/channel/UC3ytA...  \n",
      "96  https://vidiq.com/youtube-stats/channel/UC4cvp...  \n",
      "97  https://vidiq.com/youtube-stats/channel/UC4f1J...  \n",
      "98  https://vidiq.com/youtube-stats/channel/UC4Ge3...  \n",
      "99  https://vidiq.com/youtube-stats/channel/UC4Gph...  \n",
      "\n",
      "[100 rows x 2 columns]\n"
     ]
    }
   ],
   "source": [
    "print(df.head(100))"
   ]
  },
  {
   "cell_type": "code",
   "execution_count": 16,
   "id": "736599bf",
   "metadata": {},
   "outputs": [],
   "source": [
    "def extract_category(url):\n",
    "    try:\n",
    "        response = requests.get(url)\n",
    "        soup = BeautifulSoup(response.content, 'html.parser')\n",
    "        category_section = soup.find(text=\"Category\").find_next('p')\n",
    "        return category_section.text.strip() if category_section else \"Category not found\"\n",
    "    except Exception as e:\n",
    "        return f\"Error: {e}\""
   ]
  },
  {
   "cell_type": "code",
   "execution_count": 4,
   "id": "0e0e2407",
   "metadata": {},
   "outputs": [],
   "source": [
    "def extract_category(url):\n",
    "    try:\n",
    "        # Using a session to reuse the connection for optimization\n",
    "        with requests.Session() as session:\n",
    "            response = session.get(url, timeout=10)\n",
    "            response.raise_for_status()  # Raises an error for bad HTTP status codes\n",
    "\n",
    "        # Parse only the part of the HTML related to 'Category' text\n",
    "        soup = BeautifulSoup(response.content, 'html.parser')\n",
    "        category_section = soup.find(text=\"Category\")\n",
    "\n",
    "        if category_section:\n",
    "            category = category_section.find_next('p')\n",
    "            return category.text.strip() if category else \"Category not found\"\n",
    "        else:\n",
    "            return \"Category not found\"\n",
    "\n",
    "    except requests.exceptions.RequestException as e:\n",
    "        return f\"Request error: {e}\"\n",
    "    except Exception as e:\n",
    "        return f\"Error: {e}\""
   ]
  },
  {
   "cell_type": "code",
   "execution_count": 5,
   "id": "e51de2d2",
   "metadata": {},
   "outputs": [
    {
     "name": "stderr",
     "output_type": "stream",
     "text": [
      "C:\\Users\\khalil\\AppData\\Local\\Temp\\ipykernel_10792\\3202573342.py:10: DeprecationWarning: The 'text' argument to find()-type methods is deprecated. Use 'string' instead.\n",
      "  category_section = soup.find(text=\"Category\")\n"
     ]
    },
    {
     "name": "stdout",
     "output_type": "stream",
     "text": [
      "                                                   link       category\n",
      "0     https://vidiq.com/youtube-stats/channel/UC_3rZ...         Gaming\n",
      "1     https://vidiq.com/youtube-stats/channel/UC_AFy...         Sports\n",
      "2     https://vidiq.com/youtube-stats/channel/UC_I2t...      Lifestyle\n",
      "3     https://vidiq.com/youtube-stats/channel/UC_IRY...  Entertainment\n",
      "4     https://vidiq.com/youtube-stats/channel/UC_JQG...         Sports\n",
      "...                                                 ...            ...\n",
      "3847  https://vidiq.com/youtube-stats/channel/UCZvQ3...         Sports\n",
      "3848  https://vidiq.com/youtube-stats/channel/UCZW5l...          Music\n",
      "3849  https://vidiq.com/youtube-stats/channel/UCZYXO...         Travel\n",
      "3850  https://vidiq.com/youtube-stats/channel/UCzz4C...      Lifestyle\n",
      "3851  https://vidiq.com/youtube-stats/channel/UCZzQ9...         Sports\n",
      "\n",
      "[3852 rows x 2 columns]\n"
     ]
    }
   ],
   "source": [
    "# Apply the function to the first 5 links\n",
    "df['category'] = df['link'].apply(extract_category)\n",
    "\n",
    "# Display the DataFrame with categories\n",
    "print(df[['link', 'category']])"
   ]
  },
  {
   "cell_type": "code",
   "execution_count": 6,
   "id": "16ef80f9",
   "metadata": {},
   "outputs": [
    {
     "data": {
      "text/html": [
       "<div>\n",
       "<style scoped>\n",
       "    .dataframe tbody tr th:only-of-type {\n",
       "        vertical-align: middle;\n",
       "    }\n",
       "\n",
       "    .dataframe tbody tr th {\n",
       "        vertical-align: top;\n",
       "    }\n",
       "\n",
       "    .dataframe thead th {\n",
       "        text-align: right;\n",
       "    }\n",
       "</style>\n",
       "<table border=\"1\" class=\"dataframe\">\n",
       "  <thead>\n",
       "    <tr style=\"text-align: right;\">\n",
       "      <th></th>\n",
       "      <th>channel_id</th>\n",
       "      <th>link</th>\n",
       "      <th>category</th>\n",
       "    </tr>\n",
       "  </thead>\n",
       "  <tbody>\n",
       "    <tr>\n",
       "      <th>0</th>\n",
       "      <td>UC_3rZIKC-FvhYwM76LGDp7Q</td>\n",
       "      <td>https://vidiq.com/youtube-stats/channel/UC_3rZ...</td>\n",
       "      <td>Gaming</td>\n",
       "    </tr>\n",
       "    <tr>\n",
       "      <th>1</th>\n",
       "      <td>UC_AFyA9FqrZ57bb9QRH77wg</td>\n",
       "      <td>https://vidiq.com/youtube-stats/channel/UC_AFy...</td>\n",
       "      <td>Sports</td>\n",
       "    </tr>\n",
       "    <tr>\n",
       "      <th>2</th>\n",
       "      <td>UC_I2tZMUZTs6z6przhH32hA</td>\n",
       "      <td>https://vidiq.com/youtube-stats/channel/UC_I2t...</td>\n",
       "      <td>Lifestyle</td>\n",
       "    </tr>\n",
       "    <tr>\n",
       "      <th>3</th>\n",
       "      <td>UC_IRYSp4auq7hKLvziWVH6w</td>\n",
       "      <td>https://vidiq.com/youtube-stats/channel/UC_IRY...</td>\n",
       "      <td>Entertainment</td>\n",
       "    </tr>\n",
       "    <tr>\n",
       "      <th>4</th>\n",
       "      <td>UC_JQGBtA7P0RwkRxd7xpJcA</td>\n",
       "      <td>https://vidiq.com/youtube-stats/channel/UC_JQG...</td>\n",
       "      <td>Sports</td>\n",
       "    </tr>\n",
       "    <tr>\n",
       "      <th>...</th>\n",
       "      <td>...</td>\n",
       "      <td>...</td>\n",
       "      <td>...</td>\n",
       "    </tr>\n",
       "    <tr>\n",
       "      <th>3847</th>\n",
       "      <td>UCZvQ3Fl-OyvZsCWZiIkW78w</td>\n",
       "      <td>https://vidiq.com/youtube-stats/channel/UCZvQ3...</td>\n",
       "      <td>Sports</td>\n",
       "    </tr>\n",
       "    <tr>\n",
       "      <th>3848</th>\n",
       "      <td>UCZW5lIUz93q_aZIkJPAC0IQ</td>\n",
       "      <td>https://vidiq.com/youtube-stats/channel/UCZW5l...</td>\n",
       "      <td>Music</td>\n",
       "    </tr>\n",
       "    <tr>\n",
       "      <th>3849</th>\n",
       "      <td>UCZYXO1yZnSAT6sK79bZV_Hg</td>\n",
       "      <td>https://vidiq.com/youtube-stats/channel/UCZYXO...</td>\n",
       "      <td>Travel</td>\n",
       "    </tr>\n",
       "    <tr>\n",
       "      <th>3850</th>\n",
       "      <td>UCzz4CoEgSgWNs9ZAvRMhW2A</td>\n",
       "      <td>https://vidiq.com/youtube-stats/channel/UCzz4C...</td>\n",
       "      <td>Lifestyle</td>\n",
       "    </tr>\n",
       "    <tr>\n",
       "      <th>3851</th>\n",
       "      <td>UCZzQ9gNE0vjjlZVHn95QRuQ</td>\n",
       "      <td>https://vidiq.com/youtube-stats/channel/UCZzQ9...</td>\n",
       "      <td>Sports</td>\n",
       "    </tr>\n",
       "  </tbody>\n",
       "</table>\n",
       "<p>3852 rows × 3 columns</p>\n",
       "</div>"
      ],
      "text/plain": [
       "                    channel_id  \\\n",
       "0     UC_3rZIKC-FvhYwM76LGDp7Q   \n",
       "1     UC_AFyA9FqrZ57bb9QRH77wg   \n",
       "2     UC_I2tZMUZTs6z6przhH32hA   \n",
       "3     UC_IRYSp4auq7hKLvziWVH6w   \n",
       "4     UC_JQGBtA7P0RwkRxd7xpJcA   \n",
       "...                        ...   \n",
       "3847  UCZvQ3Fl-OyvZsCWZiIkW78w   \n",
       "3848  UCZW5lIUz93q_aZIkJPAC0IQ   \n",
       "3849  UCZYXO1yZnSAT6sK79bZV_Hg   \n",
       "3850  UCzz4CoEgSgWNs9ZAvRMhW2A   \n",
       "3851  UCZzQ9gNE0vjjlZVHn95QRuQ   \n",
       "\n",
       "                                                   link       category  \n",
       "0     https://vidiq.com/youtube-stats/channel/UC_3rZ...         Gaming  \n",
       "1     https://vidiq.com/youtube-stats/channel/UC_AFy...         Sports  \n",
       "2     https://vidiq.com/youtube-stats/channel/UC_I2t...      Lifestyle  \n",
       "3     https://vidiq.com/youtube-stats/channel/UC_IRY...  Entertainment  \n",
       "4     https://vidiq.com/youtube-stats/channel/UC_JQG...         Sports  \n",
       "...                                                 ...            ...  \n",
       "3847  https://vidiq.com/youtube-stats/channel/UCZvQ3...         Sports  \n",
       "3848  https://vidiq.com/youtube-stats/channel/UCZW5l...          Music  \n",
       "3849  https://vidiq.com/youtube-stats/channel/UCZYXO...         Travel  \n",
       "3850  https://vidiq.com/youtube-stats/channel/UCzz4C...      Lifestyle  \n",
       "3851  https://vidiq.com/youtube-stats/channel/UCZzQ9...         Sports  \n",
       "\n",
       "[3852 rows x 3 columns]"
      ]
     },
     "execution_count": 6,
     "metadata": {},
     "output_type": "execute_result"
    }
   ],
   "source": [
    "df"
   ]
  },
  {
   "cell_type": "code",
   "execution_count": 10,
   "id": "8d515cb1",
   "metadata": {},
   "outputs": [
    {
     "name": "stdout",
     "output_type": "stream",
     "text": [
      "Data inserted into category_trending table successfully.\n"
     ]
    }
   ],
   "source": [
    "# Connect to the database\n",
    "with pyodbc.connect(conn_str) as conn:\n",
    "    cursor = conn.cursor()\n",
    "    \n",
    "    # Drop the table if it exists\n",
    "    cursor.execute(\"IF OBJECT_ID('dbo.category_trending', 'U') IS NOT NULL DROP TABLE dbo.category_trending;\")\n",
    "    \n",
    "    # Create the category_trending table with NVARCHAR(MAX) columns\n",
    "    cursor.execute(\"\"\"\n",
    "        CREATE TABLE dbo.category_trending (\n",
    "            channel_id NVARCHAR(255),\n",
    "            link NVARCHAR(255),\n",
    "            category NVARCHAR(MAX)  -- Changed to NVARCHAR(MAX)\n",
    "        )\n",
    "    \"\"\")\n",
    "    \n",
    "    # Insert DataFrame into the table\n",
    "    for index, row in df.iterrows():\n",
    "        cursor.execute(\"\"\"\n",
    "            INSERT INTO dbo.category_trending (channel_id, link, category)\n",
    "            VALUES (?, ?, ?)\n",
    "        \"\"\", row['channel_id'], row['link'], row['category'])\n",
    "    \n",
    "    # Commit the transaction\n",
    "    conn.commit()\n",
    "\n",
    "print(\"Data inserted into category_trending table successfully.\")\n"
   ]
  },
  {
   "cell_type": "code",
   "execution_count": null,
   "id": "a1922403",
   "metadata": {},
   "outputs": [],
   "source": []
  },
  {
   "cell_type": "code",
   "execution_count": null,
   "id": "0c6494c9",
   "metadata": {},
   "outputs": [],
   "source": []
  },
  {
   "cell_type": "code",
   "execution_count": null,
   "id": "366643ea",
   "metadata": {},
   "outputs": [],
   "source": []
  },
  {
   "cell_type": "code",
   "execution_count": null,
   "id": "7e45ca10",
   "metadata": {},
   "outputs": [],
   "source": []
  },
  {
   "cell_type": "code",
   "execution_count": null,
   "id": "ce41876a",
   "metadata": {},
   "outputs": [],
   "source": []
  },
  {
   "cell_type": "code",
   "execution_count": null,
   "id": "265bdaec",
   "metadata": {},
   "outputs": [],
   "source": []
  },
  {
   "cell_type": "code",
   "execution_count": null,
   "id": "b5408995",
   "metadata": {},
   "outputs": [],
   "source": []
  },
  {
   "cell_type": "code",
   "execution_count": null,
   "id": "14e43b60",
   "metadata": {},
   "outputs": [],
   "source": []
  },
  {
   "cell_type": "code",
   "execution_count": null,
   "id": "5a293db7",
   "metadata": {},
   "outputs": [],
   "source": []
  },
  {
   "cell_type": "code",
   "execution_count": null,
   "id": "a84e86ce",
   "metadata": {},
   "outputs": [],
   "source": []
  }
 ],
 "metadata": {
  "kernelspec": {
   "display_name": "Python 3 (ipykernel)",
   "language": "python",
   "name": "python3"
  },
  "language_info": {
   "codemirror_mode": {
    "name": "ipython",
    "version": 3
   },
   "file_extension": ".py",
   "mimetype": "text/x-python",
   "name": "python",
   "nbconvert_exporter": "python",
   "pygments_lexer": "ipython3",
   "version": "3.10.13"
  }
 },
 "nbformat": 4,
 "nbformat_minor": 5
}
